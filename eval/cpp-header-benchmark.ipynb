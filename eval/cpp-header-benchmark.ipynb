{
 "cells": [
  {
   "cell_type": "code",
   "execution_count": 14,
   "metadata": {},
   "outputs": [],
   "source": [
    "import pandas as pd\n",
    "from matplotlib import pyplot as plt\n",
    "import seaborn as sns\n",
    "\n",
    "sns.set(style=\"whitegrid\")\n",
    "\n",
    "%matplotlib inline"
   ]
  },
  {
   "cell_type": "code",
   "execution_count": 17,
   "metadata": {},
   "outputs": [
    {
     "data": {
      "text/html": [
       "<div>\n",
       "<style scoped>\n",
       "    .dataframe tbody tr th:only-of-type {\n",
       "        vertical-align: middle;\n",
       "    }\n",
       "\n",
       "    .dataframe tbody tr th {\n",
       "        vertical-align: top;\n",
       "    }\n",
       "\n",
       "    .dataframe thead th {\n",
       "        text-align: right;\n",
       "    }\n",
       "</style>\n",
       "<table border=\"1\" class=\"dataframe\">\n",
       "  <thead>\n",
       "    <tr style=\"text-align: right;\">\n",
       "      <th></th>\n",
       "      <th>source</th>\n",
       "      <th>compiler</th>\n",
       "      <th>c++ version</th>\n",
       "      <th>opt</th>\n",
       "      <th>ms</th>\n",
       "    </tr>\n",
       "  </thead>\n",
       "  <tbody>\n",
       "    <tr>\n",
       "      <th>0</th>\n",
       "      <td>&lt;functional&gt;</td>\n",
       "      <td>clang-7</td>\n",
       "      <td>-std=c++11</td>\n",
       "      <td>-O0</td>\n",
       "      <td>104.840</td>\n",
       "    </tr>\n",
       "    <tr>\n",
       "      <th>1</th>\n",
       "      <td>&lt;functional&gt;</td>\n",
       "      <td>clang-7</td>\n",
       "      <td>-std=c++11</td>\n",
       "      <td>-O2</td>\n",
       "      <td>106.545</td>\n",
       "    </tr>\n",
       "    <tr>\n",
       "      <th>2</th>\n",
       "      <td>&lt;functional&gt;</td>\n",
       "      <td>clang-7</td>\n",
       "      <td>-std=c++14</td>\n",
       "      <td>-O0</td>\n",
       "      <td>112.060</td>\n",
       "    </tr>\n",
       "    <tr>\n",
       "      <th>3</th>\n",
       "      <td>&lt;functional&gt;</td>\n",
       "      <td>clang-7</td>\n",
       "      <td>-std=c++14</td>\n",
       "      <td>-O2</td>\n",
       "      <td>115.030</td>\n",
       "    </tr>\n",
       "    <tr>\n",
       "      <th>4</th>\n",
       "      <td>&lt;functional&gt;</td>\n",
       "      <td>clang-7</td>\n",
       "      <td>-std=c++17</td>\n",
       "      <td>-O0</td>\n",
       "      <td>198.705</td>\n",
       "    </tr>\n",
       "  </tbody>\n",
       "</table>\n",
       "</div>"
      ],
      "text/plain": [
       "         source compiler c++ version  opt       ms\n",
       "0  <functional>  clang-7  -std=c++11  -O0  104.840\n",
       "1  <functional>  clang-7  -std=c++11  -O2  106.545\n",
       "2  <functional>  clang-7  -std=c++14  -O0  112.060\n",
       "3  <functional>  clang-7  -std=c++14  -O2  115.030\n",
       "4  <functional>  clang-7  -std=c++17  -O0  198.705"
      ]
     },
     "execution_count": 17,
     "metadata": {},
     "output_type": "execute_result"
    }
   ],
   "source": [
    "df = pd.read_csv('simple.csv')\n",
    "df.head()"
   ]
  },
  {
   "cell_type": "code",
   "execution_count": 23,
   "metadata": {},
   "outputs": [
    {
     "data": {
      "image/png": "[encoded data removed]",
      "text/plain": [
       "<Figure size 432x288 with 1 Axes>"
      ]
     },
     "metadata": {
      "needs_background": "light"
     },
     "output_type": "display_data"
    }
   ],
   "source": [
    "f, ax = plt.subplots()\n",
    "sns.barplot(x=\"ms\", y=\"source\", hue=\"c++ version\", data=df[df[\"compiler\"] == \"clang-7\"])\n",
    "plt.xlabel(\"ms (clang-7, i9-9900k)\");"
   ]
  },
  {
   "cell_type": "code",
   "execution_count": null,
   "metadata": {},
   "outputs": [],
   "source": []
  }
 ],
 "metadata": {
  "kernelspec": {
   "display_name": "Python 3",
   "language": "python",
   "name": "python3"
  },
  "language_info": {
   "codemirror_mode": {
    "name": "ipython",
    "version": 3
   },
   "file_extension": ".py",
   "mimetype": "text/x-python",
   "name": "python",
   "nbconvert_exporter": "python",
   "pygments_lexer": "ipython3",
   "version": "3.6.7"
  }
 },
 "nbformat": 4,
 "nbformat_minor": 2
}
